{
 "cells": [
  {
   "cell_type": "markdown",
   "id": "4ca9f336-3f96-4af5-bc6d-e2cc6970ba5d",
   "metadata": {},
   "source": [
    "# Visualizing Financial Time Series"
   ]
  },
  {
   "cell_type": "code",
   "execution_count": null,
   "id": "1a5105fd-0c51-418a-bd8f-0b386ac71aa5",
   "metadata": {},
   "outputs": [],
   "source": []
  }
 ],
 "metadata": {
  "kernelspec": {
   "display_name": "financial_charts_env",
   "language": "python",
   "name": "financial_charts_env"
  },
  "language_info": {
   "codemirror_mode": {
    "name": "ipython",
    "version": 3
   },
   "file_extension": ".py",
   "mimetype": "text/x-python",
   "name": "python",
   "nbconvert_exporter": "python",
   "pygments_lexer": "ipython3",
   "version": "3.10.9"
  }
 },
 "nbformat": 4,
 "nbformat_minor": 5
}
